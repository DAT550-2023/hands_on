{
 "cells": [
  {
   "cell_type": "markdown",
   "metadata": {},
   "source": [
    "## Task-1 Housing price linear regression\n",
    "* In this exercise you'll try to build a linear regression model that predicts the price of a house according to a simple formula.\n",
    "* So, imagine if house pricing was as easy as a house costs 50k + 50k per bedroom, so that a 1 bedroom house costs 100k, a 2 bedroom house costs 150k etc.\n",
    "* How would you create a Linear regression that learns this relationship so that it would predict a 7 bedroom house as costing close to 400k etc."
   ]
  },
  {
   "cell_type": "code",
   "execution_count": 1,
   "metadata": {},
   "outputs": [
    {
     "data": {
      "text/plain": [
       "'1.15.0'"
      ]
     },
     "execution_count": 1,
     "metadata": {},
     "output_type": "execute_result"
    }
   ],
   "source": [
    "import tensorflow as tf\n",
    "import numpy as np\n",
    "tf.__version__"
   ]
  },
  {
   "cell_type": "code",
   "execution_count": 2,
   "metadata": {},
   "outputs": [],
   "source": [
    "#Generate training data according to the formula 50k + 50k * num_bed_rooms\n",
    "train_x = np.array(np.random.randint(low=1, high=20, size=1000), dtype=float)\n",
    "train_y = np.array((train_x * 50 + 50), dtype=float)\n",
    "n_samples = len(train_x)"
   ]
  },
  {
   "cell_type": "code",
   "execution_count": 3,
   "metadata": {},
   "outputs": [
    {
     "name": "stdout",
     "output_type": "stream",
     "text": [
      "[10.   5.   3.5  7.5  3.5  6.   5.   1.5  3.   6.5  8.  10.   1.   9.\n",
      "  4.   6.5  2.   1.   1.   6.  10.   8.   8.   4.5  7.   4.   7.5  1.\n",
      "  9.   2.5  8.   8.   1.5  8.5  5.   2.   6.   5.   6.5  6.5  8.   4.\n",
      "  1.5  6.5  7.   4.   4.5  9.5  5.   1.  10.   2.   8.   9.5  7.   5.5\n",
      "  6.5  4.5  8.   3.   2.   5.   4.   4.   1.   6.   8.   1.5  9.5  4.5\n",
      "  1.5  3.5  1.   3.5  9.5  9.   1.5  3.5 10.   5.   3.5  7.5  7.5  5.5\n",
      "  4.   2.   5.5  8.5  8.   7.5  2.   9.   1.5  2.   1.5  1.5  9.   5.5\n",
      "  7.5  7.5  9.5  4.  10.   6.   4.5  5.   3.   8.   2.   4.   1.   8.\n",
      "  9.   4.5  5.5  4.   2.5 10.   8.5  9.5  8.   4.   3.   2.5  3.5  6.\n",
      "  9.   8.5  7.5  1.5  6.   7.5  6.5  6.   1.   9.   2.5  2.   6.   7.\n",
      "  9.5  8.5  4.5  2.   2.5  4.5  6.5  3.5  3.   8.5  5.5  9.5  3.   6.5\n",
      "  8.5  9.   1.   8.5  6.   7.   2.   5.   8.5  1.5  1.5  3.   6.5 10.\n",
      "  8.   2.5  3.5  1.5  9.   9.   4.5  3.5  6.   6.   9.5  9.5  6.   8.5\n",
      "  3.   1.   8.5  5.5  8.   2.   1.   3.   5.5  5.   2.   6.   9.  10.\n",
      "  1.   4.5  7.5  9.5  5.   8.   8.   3.   1.5  7.   1.   6.   8.   5.\n",
      "  4.   4.5  9.5  4.   6.   1.   4.   2.5  7.5  2.5  2.   9.   6.   1.5\n",
      "  7.   4.5 10.   9.5  4.   9.5  3.5  9.   7.5  2.5 10.   9.   3.5  4.\n",
      "  5.   4.   6.5  7.5 10.   1.5  9.5  7.5  6.  10.  10.   6.5  7.   8.\n",
      "  7.   1.5  6.   6.5  2.   2.5  7.5  9.   9.5  6.   6.   6.   6.5  6.\n",
      "  7.5  5.   4.5  5.5  7.   7.5  3.   8.   3.5  6.   8.5  2.5  2.5  4.\n",
      "  6.   7.5  1.5  5.   8.   5.   5.   7.   4.5  6.   4.5  5.5  5.5  2.5\n",
      "  4.   6.5  8.5  1.   3.   2.   3.5  3.  10.   5.5  9.   6.5  5.5  7.5\n",
      " 10.   9.   4.5  2.   8.5  9.5  2.   9.5  8.   9.   1.5  6.   1.   6.5\n",
      "  1.   2.   2.   9.5  7.5  2.   4.5  6.   7.   8.   4.   8.   9.5  7.5\n",
      "  7.5  4.   4.   3.5  9.   2.   7.   3.   9.5  2.  10.   1.   9.5 10.\n",
      "  5.5  7.   3.   5.5  3.5 10.   5.5  3.   7.   6.5  8.5  1.   6.   6.5\n",
      "  1.5  9.  10.   4.   8.   2.   2.5  2.5  4.5  1.5  7.5  4.   3.   3.5\n",
      "  8.   9.5  5.5 10.   9.   9.5  4.5  8.5  6.   4.   9.   2.5  7.   9.\n",
      "  8.5  4.5  9.5  5.5  8.   3.5  7.   7.5  1.   4.   2.5  9.   9.   5.\n",
      "  5.5  5.5  6.   3.   5.   2.   4.   9.   2.   4.   1.   8.   6.   4.\n",
      "  2.   1.5  1.5  5.5  1.5  9.5 10.   9.   9.5  8.5  4.   5.   8.5  5.5\n",
      "  5.   8.5  6.  10.   9.5  6.   4.  10.   3.5  1.5  4.   2.5  8.5  7.5\n",
      "  2.5  6.5  7.5  5.   1.   6.5  2.   8.5  8.   6.5  4.   5.5  8.5  4.5\n",
      "  4.5  3.   9.   3.   5.5 10.   6.   1.5  8.5  6.   1.   8.   5.   2.\n",
      "  4.   6.5  1.5  5.5 10.   2.5  2.5  9.   7.   1.5  5.   6.5 10.   4.5\n",
      "  7.5  2.5  8.5  1.5  7.5  7.   1.5  2.5  6.5  3.5  9.   7.5  9.5  4.5\n",
      "  8.   8.   6.5  3.5  3.   5.5  4.5  9.   7.5  8.5  1.5  9.5  4.5  2.\n",
      "  4.5  2.   4.  10.   2.   4.   5.5  7.5  1.   5.   7.   4.   1.5  4.5\n",
      "  5.5  6.5 10.   1.5  3.  10.   4.5  7.   7.   9.5  1.5  5.5  5.5  3.\n",
      "  3.5  1.5  3.   5.   4.5  6.5  8.5  5.   1.   4.5  6.5  3.   8.   9.\n",
      "  1.   7.   3.5 10.   6.5  3.   5.5  3.   3.5  1.   2.   6.5  1.5  9.5\n",
      "  4.5  5.   9.5  6.   9.5  1.   2.   9.5  9.5  5.   8.   5.   3.5  7.\n",
      "  2.   7.5  2.   1.   3.   7.5  9.5  2.5  1.   3.5  2.5  3.5  5.5  8.5\n",
      "  6.5  4.   3.   9.5  4.5  9.   6.5  9.5  6.   7.   8.   3.   5.   8.5\n",
      "  7.5  1.   4.   8.   6.5 10.   9.   4.5  8.5  1.5  9.   3.   8.5  9.5\n",
      "  1.5  6.5  7.5  5.   4.5  7.   5.   1.5  1.5  1.   9.   3.5  4.5  8.\n",
      "  4.   5.   5.   1.5  4.   8.   3.   7.   6.5  8.5  6.5  4.5  3.5  1.5\n",
      "  1.5  8.5  7.   6.5  1.   4.5  7.5  5.5  7.   3.5  5.5  8.5  5.   3.5\n",
      "  5.   1.5  6.   4.   9.5  2.   2.   3.   5.   1.   8.   5.   6.   4.\n",
      "  1.5  7.5  7.   3.5  3.   5.   4.   7.5  3.5  2.   5.5  8.   5.5  4.\n",
      "  8.   9.5  5.5  8.5  2.   1.5  4.   2.   3.5  2.   4.5  4.   3.   2.5\n",
      "  5.   6.5  9.5  6.5 10.   6.   4.5  9.   5.5  7.   5.   6.5  1.   7.5\n",
      "  3.5 10.   1.   6.   6.5  1.   2.   2.   3.  10.  10.   7.5  1.5  1.5\n",
      "  1.5  3.5  8.   6.5  2.   5.5  2.   9.   9.   8.   2.5  2.5  2.5 10.\n",
      "  4.   4.   5.   3.   5.   1.5  4.5  2.   5.5  6.   9.5  2.   6.5  1.\n",
      "  8.5  3.   9.   4.5  9.5  7.   3.   2.5  2.   5.5  5.5  5.5  3.   5.5\n",
      "  7.   2.   9.   1.   4.5  1.5 10.   9.5  5.5  6.5  9.5 10.   6.5  1.5\n",
      "  8.   3.   8.5  5.5  3.   6.   9.5  2.5 10.   7.5  3.5  9.5  6.5  3.\n",
      "  2.5  8.  10.   2.   3.   2.5  1.   8.5  5.5 10.   7.  10.   7.5  7.\n",
      "  6.  10.   8.5  7.  10.   5.5  7.  10.   1.5  6.   1.5  3.   1.  10.\n",
      "  2.5  1.5  7.5  2.   1.5  3.5  1.5  1.5  4.   4.   3.5  1.5  8.5  6.\n",
      "  1.   2.   6.5 10.   5.   6.   6.   3.5  7.5  8.5  5.   5.   5.5  6.5\n",
      "  4.   7.5 10.   6.   2.   1.5  5.   4.5  1.5  9.   2.   7.   8.5  4.\n",
      "  4.5  8.   1.5  3.5  6.   5.5  5.5  1.5  6.5  9.5  5.   9.   7.   1.5\n",
      " 10.   9.   6.5  6.5  7.   1.5  5.5  2.   7.   8.   5.   5.5  7.5  2.5\n",
      " 10.   8.5 10.   2.   3.5  4.   7.   9.5  1.   2.  10.   9.   5.5  3.5\n",
      "  5.   1.5  2.   1.5  9.   6.   5.5  1.   7.5  9.5  8.5  8.5  6.   8.5\n",
      "  1.5  3.   4.   1.5  6.5  8.   3.   4.5  8.   4.5  7.5  1.   5.   4.\n",
      "  6.   8.   9.5  7.   1.   8.5  6.5  3.5  6.5  3.   9.5  8.5 10.   2.\n",
      "  6.   2.   3.5  5.5  3.5  7.5  7.   7.   3.   1.5  8.   5.5  6.5  5.\n",
      "  6.5  2.5  8.   4.5  9.   5.5  8.5  4.   2.   8.5  2.   9.   5.5  7.5\n",
      "  1.5  7.   6.5 10.   1.5  3. ]\n"
     ]
    }
   ],
   "source": [
    "train_y = train_y/100\n",
    "print(train_y)"
   ]
  },
  {
   "cell_type": "code",
   "execution_count": 4,
   "metadata": {},
   "outputs": [],
   "source": [
    "#Define two placeholders for input variables using tf.placeholder\n",
    "with tf.name_scope(\"Inputs\"):\n",
    "    X = tf.placeholder(\"float\", name=\"input\")\n",
    "    Y = tf.placeholder(\"float\", name=\"target_price\")"
   ]
  },
  {
   "cell_type": "code",
   "execution_count": 5,
   "metadata": {},
   "outputs": [],
   "source": [
    "#Define two variables for weight and bias\n",
    "rng = np.random\n",
    "with tf.name_scope(\"Weights\"):\n",
    "    W = tf.Variable(rng.randn(), name=\"weight\")\n",
    "    b = tf.Variable(rng.randn(), name=\"bias\")"
   ]
  },
  {
   "cell_type": "code",
   "execution_count": 6,
   "metadata": {},
   "outputs": [
    {
     "name": "stdout",
     "output_type": "stream",
     "text": [
      "WARNING:tensorflow:From /Users/vsetty/repos/BRENDA-new/BRENDA/Server/brenda-env/lib/python3.7/site-packages/tensorflow_core/python/ops/math_grad.py:1375: where (from tensorflow.python.ops.array_ops) is deprecated and will be removed in a future version.\n",
      "Instructions for updating:\n",
      "Use tf.where in 2.0, which has the same broadcast rule as np.where\n"
     ]
    }
   ],
   "source": [
    "egression function, loss function and optimization\n",
    "with tf.name_scope(\"LinearRegression\"):\n",
    "    pred = tf.add(tf.multiply(X,W), b)\n",
    "with tf.name_scope(\"Loss\"):\n",
    "    loss = tf.reduce_sum(tf.pow(pred - Y, 2)/(2*n_samples))\n",
    "with tf.name_scope(\"SGD\"):\n",
    "    optimizer = tf.train.GradientDescentOptimizer(learning_rate).minimize(loss)\n",
    "init = tf.global_variables_initializer()"
   ]
  },
  {
   "cell_type": "code",
   "execution_count": 11,
   "metadata": {},
   "outputs": [],
   "source": [
    "learning_rate = 0.0001\n",
    "display_step = 50\n",
    "training_epochs = 1000\n",
    "#Define the linear r"
   ]
  },
  {
   "cell_type": "code",
   "execution_count": 12,
   "metadata": {},
   "outputs": [
    {
     "name": "stdout",
     "output_type": "stream",
     "text": [
      "Epoch: 0050 cost= 1.744759798 W= 0.3470978 b= 0.35154402\n",
      "Epoch: 0100 cost= 0.477969408 W= 0.42509243 b= 0.35770983\n",
      "Epoch: 0150 cost= 0.131929457 W= 0.4658643 b= 0.36104518\n",
      "Epoch: 0200 cost= 0.037536763 W= 0.4871499 b= 0.36292773\n",
      "Epoch: 0250 cost= 0.011806963 W= 0.4982269 b= 0.36424854\n",
      "Epoch: 0300 cost= 0.004870520 W= 0.5039711 b= 0.36433762\n",
      "Epoch: 0350 cost= 0.002974543 W= 0.50691104 b= 0.36433762\n",
      "Epoch: 0400 cost= 0.002368680 W= 0.50869095 b= 0.36433762\n",
      "Epoch: 0450 cost= 0.002207109 W= 0.5096965 b= 0.36433762\n",
      "Epoch: 0500 cost= 0.002175612 W= 0.51018786 b= 0.36433762\n",
      "Epoch: 0550 cost= 0.002171549 W= 0.51043314 b= 0.36433762\n",
      "Epoch: 0600 cost= 0.002172510 W= 0.5105613 b= 0.36433762\n",
      "Epoch: 0650 cost= 0.002172949 W= 0.5105865 b= 0.36433762\n",
      "Epoch: 0700 cost= 0.002172949 W= 0.5105865 b= 0.36433762\n",
      "Epoch: 0750 cost= 0.002172949 W= 0.5105865 b= 0.36433762\n",
      "Epoch: 0800 cost= 0.002172949 W= 0.5105865 b= 0.36433762\n",
      "Epoch: 0850 cost= 0.002172949 W= 0.5105865 b= 0.36433762\n",
      "Epoch: 0900 cost= 0.002172949 W= 0.5105865 b= 0.36433762\n",
      "Epoch: 0950 cost= 0.002172949 W= 0.5105865 b= 0.36433762\n",
      "Epoch: 1000 cost= 0.002172949 W= 0.5105865 b= 0.36433762\n",
      "Training cost= 0.0021729493 W= 0.5105865 b= 0.36433762 \n",
      "\n",
      "predicted cost for house with bedrooms 7 3.9384432\n"
     ]
    }
   ],
   "source": [
    "#Train the model and predict the house price for 7 bedrooms\n",
    "with tf.Session() as sess:\n",
    "    sess.run(init)\n",
    "     # op to write logs to Tensorboard\n",
    "#     summary_writer = tf.summary.FileWriter(logs_path, graph=tf.get_default_graph())\n",
    "\n",
    "    for epoch in range(training_epochs):\n",
    "        for (x, y) in zip(train_x, train_y):\n",
    "            sess.run(optimizer, feed_dict={X: x, Y: y})\n",
    "        #Display logs per epoch step\n",
    "        if (epoch+1) % display_step == 0:\n",
    "            c = sess.run(loss, feed_dict={X: train_x, Y:train_y})\n",
    "            print(\"Epoch:\", '%04d' % (epoch+1), \"cost=\", \"{:.9f}\".format(c), \\\n",
    "                \"W=\", sess.run(W), \"b=\", sess.run(b))\n",
    "#             summary_writer.add_summary(summary, epoch)\n",
    "    training_cost = sess.run(loss, feed_dict={X: train_x, Y: train_y})\n",
    "    print(\"Training cost=\", training_cost, \"W=\", sess.run(W), \"b=\", sess.run(b), '\\n')\n",
    "    pred_house_cost = sess.run(pred, feed_dict={X: 7})\n",
    "    print(\"predicted cost for house with bedrooms 7\", pred_house_cost)\n"
   ]
  },
  {
   "cell_type": "code",
   "execution_count": null,
   "metadata": {},
   "outputs": [],
   "source": []
  },
  {
   "cell_type": "markdown",
   "metadata": {},
   "source": [
    "## Task-2 Setup tensorboard and visualize the accuracy and loss"
   ]
  },
  {
   "cell_type": "code",
   "execution_count": null,
   "metadata": {},
   "outputs": [],
   "source": []
  }
 ],
 "metadata": {
  "kernelspec": {
   "display_name": "tf1.x",
   "language": "python",
   "name": "brenda-env"
  },
  "language_info": {
   "codemirror_mode": {
    "name": "ipython",
    "version": 3
   },
   "file_extension": ".py",
   "mimetype": "text/x-python",
   "name": "python",
   "nbconvert_exporter": "python",
   "pygments_lexer": "ipython3",
   "version": "3.7.1"
  }
 },
 "nbformat": 4,
 "nbformat_minor": 2
}
