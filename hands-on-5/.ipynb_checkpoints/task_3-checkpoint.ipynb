{
 "cells": [
  {
   "cell_type": "markdown",
   "metadata": {},
   "source": [
    "# Hands-on-5: Classification - Alternative techniques\n"
   ]
  },
  {
   "cell_type": "markdown",
   "metadata": {},
   "source": [
    "## Task 3: Comparing different classifiers on the Iris dataset\n",
    "\n",
    "  - Using the training/test splits from Practicum 2, train different classifiers and compare their performance.\n",
    "  - Documentation for the classifiers can be found here:\n",
    "    * [Decision Trees](http://scikit-learn.org/stable/modules/tree.html)\n",
    "    * [Nearest Neighbors](http://scikit-learn.org/stable/modules/neighbors.html)\n",
    "    * [Naive Bayes](http://scikit-learn.org/stable/modules/naive_bayes.html)\n",
    "    * [Random Forest](http://scikit-learn.org/stable/modules/ensemble.html#forests-of-randomized-trees)"
   ]
  },
  {
   "cell_type": "markdown",
   "metadata": {},
   "source": [
    "## References\n",
    "\n",
    "  - Scikit-learn\n",
    "    * [Tutorial](http://scikit-learn.org/stable/tutorial/index.html)\n",
    "    * [Supervised learning](http://scikit-learn.org/stable/supervised_learning.html)\n",
    "    * [Class and function reference](http://scikit-learn.org/stable/modules/classes.html)\n",
    "    * [Dataset loading utilities](http://scikit-learn.org/stable/datasets/index.html)\n",
    "  - [Scikit-learn tutorial video](https://vimeo.com/53062607) and [online material](http://www.astroml.org/sklearn_tutorial/)"
   ]
  },
  {
   "cell_type": "markdown",
   "metadata": {},
   "source": [
    "Train different classifiers and compare their performance by filling out the following table:"
   ]
  },
  {
   "cell_type": "markdown",
   "metadata": {},
   "source": [
    "| Method               | Accuracy | Error rate |\n",
    "| -------------------- | -------- | ---------- |\n",
    "| Decision Tree        |          |            |\n",
    "| Nearest Neighbors    |          |            |\n",
    "| Naive Bayes          |          |            |\n",
    "| Random Forest        |          |            |"
   ]
  },
  {
   "cell_type": "markdown",
   "metadata": {},
   "source": [
    "Since Nearest Neighbours and Random Forests classifiers have parameters to possibly tune, they might have multiple rows for different parameter values."
   ]
  },
  {
   "cell_type": "code",
   "execution_count": null,
   "metadata": {
    "collapsed": true
   },
   "outputs": [],
   "source": [
    "import csv\n",
    "from collections import Counter\n",
    "import numpy as np\n",
    "import pprint\n",
    "import math"
   ]
  },
  {
   "cell_type": "markdown",
   "metadata": {},
   "source": [
    "We import the scikit-learn classes implementing the classifiers of interest, e.g., a decision tree."
   ]
  },
  {
   "cell_type": "code",
   "execution_count": null,
   "metadata": {
    "collapsed": true
   },
   "outputs": [],
   "source": [
    "from sklearn.tree import DecisionTreeClassifier"
   ]
  },
  {
   "cell_type": "markdown",
   "metadata": {},
   "source": [
    "We can define a data loader just like in the Task 1, and the predictions evaluator used in this practicum"
   ]
  },
  {
   "cell_type": "code",
   "execution_count": null,
   "metadata": {
    "collapsed": true
   },
   "outputs": [],
   "source": [
    "#TODO :)"
   ]
  },
  {
   "cell_type": "markdown",
   "metadata": {},
   "source": [
    "#### Main logic"
   ]
  },
  {
   "cell_type": "markdown",
   "metadata": {},
   "source": [
    "Then, we are ready to train and apply a model, and evaluate its predictions."
   ]
  },
  {
   "cell_type": "code",
   "execution_count": null,
   "metadata": {
    "collapsed": true
   },
   "outputs": [],
   "source": [
    "#TODO :)"
   ]
  }
 ],
 "metadata": {
  "kernelspec": {
   "display_name": "Python 3",
   "language": "python",
   "name": "python3"
  },
  "language_info": {
   "codemirror_mode": {
    "name": "ipython",
    "version": 3
   },
   "file_extension": ".py",
   "mimetype": "text/x-python",
   "name": "python",
   "nbconvert_exporter": "python",
   "pygments_lexer": "ipython3",
   "version": "3.7.1"
  }
 },
 "nbformat": 4,
 "nbformat_minor": 1
}
