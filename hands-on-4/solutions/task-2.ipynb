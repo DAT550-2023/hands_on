{
 "cells": [
  {
   "cell_type": "markdown",
   "metadata": {},
   "source": [
    "# Hands-on 4: Classification\n",
    "\n"
   ]
  },
  {
   "cell_type": "markdown",
   "metadata": {},
   "source": [
    "## Task 2: Evaluation\n",
    "\n",
    "  - Obtain evaluation measurements for predictions made with a classification model."
   ]
  },
  {
   "cell_type": "markdown",
   "metadata": {},
   "source": [
    "We had applied our model to a set of 30 weather observations; the predicted labels are in `data/dt_play.preds.csv`.\n",
    "\n",
    "We were lucky to also have the ground truth labels for them in `data/dt_play.gt.csv`, so we can evaluate our model."
   ]
  },
  {
   "cell_type": "markdown",
   "metadata": {},
   "source": [
    "Load each of the label collections, ground truth and predictions, in separate lists. If a given position corresponds to a same instance in both lists, it is enough with storing the labels."
   ]
  },
  {
   "cell_type": "code",
   "execution_count": 1,
   "metadata": {
    "collapsed": false
   },
   "outputs": [
    {
     "name": "stdout",
     "output_type": "stream",
     "text": [
      "['No', 'No', 'No', 'Yes', 'No', 'No', 'No', 'Yes', 'Yes', 'No', 'No', 'Yes', 'Yes', 'No', 'Yes', 'Yes', 'Yes', 'Yes', 'No', 'No', 'Yes', 'Yes', 'No', 'Yes', 'Yes', 'Yes', 'Yes', 'Yes', 'No', 'Yes']\n",
      "['No', 'No', 'No', 'Yes', 'No', 'Yes', 'Yes', 'Yes', 'Yes', 'No', 'No', 'Yes', 'Yes', 'No', 'Yes', 'Yes', 'Yes', 'No', 'Yes', 'No', 'Yes', 'Yes', 'No', 'No', 'Yes', 'No', 'Yes', 'No', 'No', 'Yes']\n"
     ]
    }
   ],
   "source": [
    "import csv\n",
    "\n",
    "def load_labels(filename):\n",
    "    labels = []\n",
    "    with open(filename, 'rt') as csvfile:\n",
    "        csvreader = csv.reader(csvfile, delimiter=',')\n",
    "        for row in csvreader:\n",
    "            if len(row) == 2:\n",
    "                labels.append(row[1])\n",
    "    return labels\n",
    "\n",
    "gt = load_labels(\"data/dt_play.gt.csv\")\n",
    "print(gt)\n",
    "\n",
    "preds = load_labels(\"data/dt_play.pred.csv\")\n",
    "print(preds)"
   ]
  },
  {
   "cell_type": "markdown",
   "metadata": {},
   "source": [
    "What is the value of these evaluation metrics for these predictions with respect to the ground truth?\n",
    "\n",
    "  - Accuracy\n",
    "  - Type I Error\n",
    "  - Type II Error"
   ]
  },
  {
   "cell_type": "code",
   "execution_count": 2,
   "metadata": {
    "collapsed": false
   },
   "outputs": [
    {
     "name": "stdout",
     "output_type": "stream",
     "text": [
      "Accuracy = 0.7666666666666667\n",
      "Type I Error = 0.1\n",
      "Type II Error = 0.13333333333333333\n"
     ]
    }
   ],
   "source": [
    "acc, err_1, err_2 = 0, 0, 0\n",
    "\n",
    "for x, y in zip(gt, preds):\n",
    "    if x == y:\n",
    "        acc += 1\n",
    "    elif y == \"Yes\":  # x != y, y == \"Yes\" (false positive)\n",
    "        err_1 += 1\n",
    "    else:             # x != y, y == \"No\"  (false negative)\n",
    "        err_2 += 1\n",
    "        \n",
    "print(\"Accuracy = {}\\nType I Error = {}\\nType II Error = {}\".format(acc/len(gt), err_1/len(gt), err_2/len(gt)))"
   ]
  },
  {
   "cell_type": "code",
   "execution_count": null,
   "metadata": {
    "collapsed": true
   },
   "outputs": [],
   "source": []
  }
 ],
 "metadata": {
  "kernelspec": {
   "display_name": "Python 3",
   "language": "python",
   "name": "python3"
  },
  "language_info": {
   "codemirror_mode": {
    "name": "ipython",
    "version": 3
   },
   "file_extension": ".py",
   "mimetype": "text/x-python",
   "name": "python",
   "nbconvert_exporter": "python",
   "pygments_lexer": "ipython3",
   "version": "3.5.3"
  }
 },
 "nbformat": 4,
 "nbformat_minor": 0
}
