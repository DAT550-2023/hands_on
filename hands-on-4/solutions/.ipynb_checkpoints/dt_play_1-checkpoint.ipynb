{
 "cells": [
  {
   "cell_type": "markdown",
   "metadata": {},
   "source": [
    "# Practicum 5: Classification\n",
    "\n"
   ]
  },
  {
   "cell_type": "markdown",
   "metadata": {},
   "source": [
    "## Task 1: Learning a Decision Tree \n",
    "\n",
    "  - Obtain the impurity measurements of a node. \n",
    "  - Implement simple splitting procedures.\n",
    "  - Calculate the information gain for possible splittings, and decide for the best. "
   ]
  },
  {
   "cell_type": "markdown",
   "metadata": {},
   "source": [
    "### Preliminaries"
   ]
  },
  {
   "cell_type": "markdown",
   "metadata": {},
   "source": [
    "In this task we work with the dataset used in the exercise from the last lecture.\n",
    "Given observations on some weather properties, we learnt a decision tree to predict if we can play outside."
   ]
  },
  {
   "cell_type": "markdown",
   "metadata": {},
   "source": [
    "We will use the **csv** module for reading in data from a file."
   ]
  },
  {
   "cell_type": "code",
   "execution_count": 3,
   "metadata": {
    "collapsed": true
   },
   "outputs": [],
   "source": [
    "import csv"
   ]
  },
  {
   "cell_type": "markdown",
   "metadata": {},
   "source": [
    "The data set is, as usual, stored in a comma-separated text file.\n",
    "\n",
    "We read it and store it as a list of records, where each record is represented using a dict."
   ]
  },
  {
   "cell_type": "code",
   "execution_count": 4,
   "metadata": {},
   "outputs": [],
   "source": [
    "def load_play_data(filename):\n",
    "    records = []\n",
    "    with open(filename, 'rt') as csvfile:\n",
    "        csvreader = csv.reader(csvfile, delimiter=',')\n",
    "        for row in csvreader:\n",
    "            if len(row) == 5:  # if we have 4 fields in that line\n",
    "                records.append({\n",
    "                    \"Outlook\": row[0],\n",
    "                    \"Temp\": float(row[1]),\n",
    "                    \"Humidity\": float(row[2]),\n",
    "                    \"Windy\": row[3],\n",
    "                    \"Target\": row[4]\n",
    "                })\n",
    "    return records\n",
    "\n",
    "play_data = load_play_data(\"data/dt_play.data.csv\")"
   ]
  },
  {
   "cell_type": "markdown",
   "metadata": {},
   "source": [
    "We can get all the possible values for the attribute \"Outlook\"."
   ]
  },
  {
   "cell_type": "code",
   "execution_count": 5,
   "metadata": {},
   "outputs": [
    {
     "data": {
      "text/plain": [
       "{'overcast', 'rain', 'sunny'}"
      ]
     },
     "execution_count": 5,
     "metadata": {},
     "output_type": "execute_result"
    }
   ],
   "source": [
    "set([x[\"Outlook\"] for x in play_data])"
   ]
  },
  {
   "cell_type": "markdown",
   "metadata": {},
   "source": [
    "We can also select some records by their ID, to be the position by the order in the file.\n",
    "\n",
    "For example, we can select the records to be associated with the child of the root reached by the condition \"sunny\" if it is splitting by \"Outlook\" (i.e., records for the call 2.1 in the exercise)."
   ]
  },
  {
   "cell_type": "code",
   "execution_count": 6,
   "metadata": {},
   "outputs": [
    {
     "data": {
      "text/plain": [
       "[{'Humidity': 85.0,\n",
       "  'Outlook': 'sunny',\n",
       "  'Target': 'No',\n",
       "  'Temp': 85.0,\n",
       "  'Windy': 'false'},\n",
       " {'Humidity': 90.0,\n",
       "  'Outlook': 'sunny',\n",
       "  'Target': 'No',\n",
       "  'Temp': 80.0,\n",
       "  'Windy': 'true'},\n",
       " {'Humidity': 95.0,\n",
       "  'Outlook': 'sunny',\n",
       "  'Target': 'No',\n",
       "  'Temp': 72.0,\n",
       "  'Windy': 'false'},\n",
       " {'Humidity': 70.0,\n",
       "  'Outlook': 'sunny',\n",
       "  'Target': 'Yes',\n",
       "  'Temp': 69.0,\n",
       "  'Windy': 'false'},\n",
       " {'Humidity': 70.0,\n",
       "  'Outlook': 'sunny',\n",
       "  'Target': 'Yes',\n",
       "  'Temp': 75.0,\n",
       "  'Windy': 'true'}]"
      ]
     },
     "execution_count": 6,
     "metadata": {},
     "output_type": "execute_result"
    }
   ],
   "source": [
    "[play_data[i] for i in range(len(play_data)) if i in {0, 1, 7, 8, 10}]  # {1, 2, 8, 9, 11} shifted one to the left"
   ]
  },
  {
   "cell_type": "markdown",
   "metadata": {},
   "source": [
    "This records list is, of course, the same as this one, just selecting the records by that attribute value from the entire dataset."
   ]
  },
  {
   "cell_type": "code",
   "execution_count": 7,
   "metadata": {},
   "outputs": [],
   "source": [
    "#[x for x in play_data if x[\"Outlook\"] == \"sunny\"]"
   ]
  },
  {
   "cell_type": "markdown",
   "metadata": {},
   "source": [
    "### Impurity Measures: Entropy"
   ]
  },
  {
   "cell_type": "markdown",
   "metadata": {},
   "source": [
    "Define the entropy of (the classes distribution of a list of records associated with) a node.\n",
    "\n",
    "The **entropy** for a node $t$ and $c$ classes is $\\mathrm{Entropy}(t) = -\\sum_{i=0}^{c-1}P(i|t)log_2 P(i|t)$ ."
   ]
  },
  {
   "cell_type": "code",
   "execution_count": 1,
   "metadata": {},
   "outputs": [],
   "source": [
    "import math\n",
    "from collections import Counter\n",
    "\n",
    "def entropy(records):\n",
    "    \"\"\"Entropy of a list of records associated with a node.\"\"\"\n",
    "    count = Counter([x[\"Target\"] for x in records])\n",
    "    return sum([(-freq / len(records)) * math.log(freq / len(records), 2) for freq in count.values()])"
   ]
  },
  {
   "cell_type": "markdown",
   "metadata": {},
   "source": [
    "Obtain the entropy of the entire dataset (done in the exercise for the records associated to the root)."
   ]
  },
  {
   "cell_type": "code",
   "execution_count": 8,
   "metadata": {},
   "outputs": [
    {
     "data": {
      "text/plain": [
       "0.9402859586706309"
      ]
     },
     "execution_count": 8,
     "metadata": {},
     "output_type": "execute_result"
    }
   ],
   "source": [
    "entropy(play_data)"
   ]
  },
  {
   "cell_type": "markdown",
   "metadata": {},
   "source": [
    "### Splitting by a categorical attribute"
   ]
  },
  {
   "cell_type": "markdown",
   "metadata": {},
   "source": [
    "Define the following function to split a list of records by a given **categorical** attribute, using a partition of possible values as outcomes to the children."
   ]
  },
  {
   "cell_type": "code",
   "execution_count": 12,
   "metadata": {
    "collapsed": true
   },
   "outputs": [],
   "source": [
    "def split_categorical(records, attr_name, values_sets):\n",
    "    \"\"\"Splits a list of records by a given categorical attribute, using a partition of possible values.\n",
    "    \n",
    "    :param records: a list of records to split.\n",
    "    :param attr_name: the name of the categorical attribute.\n",
    "    :param values_sets: a partition list of sets A_i. Given the m possible values Vals(D) = {dj | j=1, ..., m} of the \\\n",
    "    attribute D, each A_i is a subset of possible values, such that all the A_i sets make a partition (mutually \\\n",
    "    disjoint, and the union of all is Vals(D)).\n",
    "    For example, when D=\"Outlook\", Vals(D) = {\"sunny\", \"overcast\", \"rain\"}, then a possible partition is \\\n",
    "    values_sets = [{\"sunny\"}, {\"overcast\", \"rain\"}].\n",
    "    Another possible partition is values_sets = [{\"sunny\"}, {\"overcast\"}, {\"rain\"}].\n",
    "    :return: a list of lists, each of these ones contains all the records associated with one of the children.\n",
    "    \"\"\"\n",
    "    print(\"Splitting by {}\".format(attr_name))\n",
    "    children = []\n",
    "    for a_i in values_sets:  # for each subset of possible values\n",
    "        child = [x for x in records if x[attr_name] in a_i]  # \n",
    "        children.append(child)\n",
    "        \n",
    "        # e.g. if values_sets = [{\"sunny\"}, {\"overcast\", \"rain\"}], and atr_name = \"Outlook\"\n",
    "        # then, in the 2nd iteration, a_i = {\"overcast\", \"rain\"},\n",
    "        # so child = list of records for which the value in \"Outlook\" attr is in {\"overcast\", \"rain\"}\n",
    "        \n",
    "        # We also print the entropy for each child\n",
    "        print(\"\\tChild condition: {}\\tSize = {}\\tEntropy = {}\".format(a_i, len(child), entropy(child)))\n",
    "    return children"
   ]
  },
  {
   "cell_type": "markdown",
   "metadata": {},
   "source": [
    "Obtain the records associated with each the children nodes after splitting the entire dataset by \"Outlook\" with its three possible values as partitions (just like in the exercise)."
   ]
  },
  {
   "cell_type": "code",
   "execution_count": 13,
   "metadata": {
    "scrolled": false
   },
   "outputs": [
    {
     "name": "stdout",
     "output_type": "stream",
     "text": [
      "Splitting by Outlook\n",
      "\tChild condition: {'sunny'}\tSize = 5\tEntropy = 0.9709505944546686\n",
      "\tChild condition: {'overcast'}\tSize = 4\tEntropy = 0.0\n",
      "\tChild condition: {'rain'}\tSize = 5\tEntropy = 0.9709505944546686\n"
     ]
    }
   ],
   "source": [
    "children = split_categorical(play_data, \"Outlook\", [{\"sunny\"}, {\"overcast\"}, {\"rain\"}])"
   ]
  },
  {
   "cell_type": "markdown",
   "metadata": {},
   "source": [
    "### Impurity Measures: Gini and Classification Error"
   ]
  },
  {
   "cell_type": "markdown",
   "metadata": {},
   "source": [
    "Define the Gini impurity of (the classes distribution of a list of records associated with) a node.\n",
    "\n",
    "The **Gini impurity** for a node $t$ and $c$ classes is $\\mathrm{Gini}(t) = 1-\\sum_{i=0}^{c-1}P(i|t)^2$ ."
   ]
  },
  {
   "cell_type": "code",
   "execution_count": 14,
   "metadata": {
    "collapsed": true
   },
   "outputs": [],
   "source": [
    "def gini(records):\n",
    "    \"\"\"Gini impurity of a list of records associated with a node.\"\"\"\n",
    "    count = Counter([x[\"Target\"] for x in records])\n",
    "    return 1 - sum([math.pow(freq / len(records), 2) for freq in count.values()])"
   ]
  },
  {
   "cell_type": "markdown",
   "metadata": {},
   "source": [
    "We can verify the consistency with respect to entropy as a measurement of the impurity of the entire dataset. For this, get the Gini impurity for each child, and compare with the respective entropy measurements.\n",
    "  "
   ]
  },
  {
   "cell_type": "code",
   "execution_count": 16,
   "metadata": {},
   "outputs": [
    {
     "name": "stdout",
     "output_type": "stream",
     "text": [
      "Splitting by Outlook\n",
      "\tChild condition: {'sunny'}\tSize = 5\tGini impurity = 0.48\n",
      "\tChild condition: {'overcast'}\tSize = 4\tGini impurity = 0.0\n",
      "\tChild condition: {'rain'}\tSize = 5\tGini impurity = 0.48\n"
     ]
    }
   ],
   "source": [
    "# Same definition as for entropy but printing Gini inside\n",
    "def split_categorical_showing_gini(records, attr_name, values_sets):\n",
    "    \"\"\"Splits a list of records by a given categorical attribute, using a partition of possible values.\n",
    "    Shows Gini impurity during calculations.\n",
    "    \n",
    "    :param records: a list of records to split.\n",
    "    :param attr_name: the name of the categorical attribute.\n",
    "    :param values_sets: a partition list of sets A_i. Given the m possible values Vals(D) = {dj | j=1, ..., m} of the \\\n",
    "    attribute D, each A_i is a subset of possible values, such that all the A_i sets make a partition (mutually \\\n",
    "    disjoint, and the union of all gives Vals(D)).\n",
    "    For example, when D=\"Outlook\", Vals(D) = {\"sunny\", \"overcast\", \"rain\"}, then a possible partition is \\\n",
    "    values_sets = [{\"sunny\"}, {\"overcast\", \"rain\"}].\n",
    "    Another possible partition is values_sets = [{\"sunny\"}, {\"overcast\"}, {\"rain\"}].\n",
    "    :return: a list of lists, each list contains all the records associated with one child.\n",
    "    \"\"\"\n",
    "    print(\"Splitting by {}\".format(attr_name))\n",
    "    children = []\n",
    "    for a_i in values_sets:  # for each subset of possible values\n",
    "        child = [x for x in records if x[attr_name] in a_i]  # \n",
    "        children.append(child)\n",
    "        \n",
    "        # e.g. if values_sets = [{\"sunny\"}, {\"overcast\", \"rain\"}], and atr_name = \"Outlook\"\n",
    "        # then, in the 2nd iteration, a_i = {\"overcast\", \"rain\"},\n",
    "        # so child = list of records for which the value in \"Outlook\" attr is in {\"overcast\", \"rain\"}\n",
    "        \n",
    "        # We also print the Gini impurity for each child\n",
    "        print(\"\\tChild condition: {}\\tSize = {}\\tGini impurity = {}\".format(a_i, len(child), gini(child)))\n",
    "    return children\n",
    "\n",
    "children = split_categorical_showing_gini(play_data, \"Outlook\", [{\"sunny\"}, {\"overcast\"}, {\"rain\"}])"
   ]
  },
  {
   "cell_type": "code",
   "execution_count": 32,
   "metadata": {},
   "outputs": [
    {
     "name": "stdout",
     "output_type": "stream",
     "text": [
      "Splitting by Outlook\n",
      "\tChild condition: {'sunny'}\tSize = 5\tEntropy = 0.9709505944546686\n",
      "\tChild condition: {'overcast'}\tSize = 4\tEntropy = 0.0\n",
      "\tChild condition: {'rain'}\tSize = 5\tEntropy = 0.9709505944546686\n",
      "0-th child. Gini impurity = 0.48\n",
      "1-th child. Gini impurity = 0.0\n",
      "2-th child. Gini impurity = 0.48\n"
     ]
    },
    {
     "data": {
      "text/plain": [
       "0.4591836734693877"
      ]
     },
     "execution_count": 32,
     "metadata": {},
     "output_type": "execute_result"
    }
   ],
   "source": [
    "# Or simply like this:\n",
    "children = split_categorical(play_data, \"Outlook\", [{\"sunny\"}, {\"overcast\"}, {\"rain\"}])\n",
    "for i, child in enumerate(children):\n",
    "    print(\"{}-th child. Gini impurity = {}\".format(i, gini(child)))\n",
    "    \n",
    "gini(play_data)"
   ]
  },
  {
   "cell_type": "markdown",
   "metadata": {},
   "source": [
    "Define the classification error impurity of (the classes distribution of a list of records associated with) a node.\n",
    "\n",
    "The **classification error** for a node $t$ and $c$ classes is $\\mathrm{Classification~error}(t) = 1-\\max P(i|t)$ ."
   ]
  },
  {
   "cell_type": "code",
   "execution_count": 19,
   "metadata": {
    "collapsed": true
   },
   "outputs": [],
   "source": [
    "def classif_error(records):\n",
    "    \"\"\"Classification error of a list of records associated with a node.\"\"\"\n",
    "    count = Counter([x[\"Target\"] for x in records])\n",
    "    return 1 - max([freq / len(records) for freq in count.values()])"
   ]
  },
  {
   "cell_type": "markdown",
   "metadata": {},
   "source": [
    "Similarly as before, we can verify the consistency of the classification error with respect to the other impurities, in particular on the entire dataset. For this, get the classification error for each child, and compare with the respective measurements for previous impurities."
   ]
  },
  {
   "cell_type": "code",
   "execution_count": 20,
   "metadata": {},
   "outputs": [
    {
     "name": "stdout",
     "output_type": "stream",
     "text": [
      "Splitting by Outlook\n",
      "\tChild condition: {'sunny'}\tSize = 5\tEntropy = 0.9709505944546686\n",
      "\tChild condition: {'overcast'}\tSize = 4\tEntropy = 0.0\n",
      "\tChild condition: {'rain'}\tSize = 5\tEntropy = 0.9709505944546686\n",
      "0-th child. Size = 5\tClassification error = 0.4\n",
      "1-th child. Size = 4\tClassification error = 0.0\n",
      "2-th child. Size = 5\tClassification error = 0.4\n"
     ]
    }
   ],
   "source": [
    "children = split_categorical(play_data, \"Outlook\", [{\"sunny\"}, {\"overcast\"}, {\"rain\"}])\n",
    "for i, child in enumerate(children):\n",
    "    print(\"{}-th child. Size = {}\\tClassification error = {}\".format(i, len(child), classif_error(child)))"
   ]
  },
  {
   "cell_type": "markdown",
   "metadata": {},
   "source": [
    "### Splitting by a numeric attribute"
   ]
  },
  {
   "cell_type": "markdown",
   "metadata": {},
   "source": [
    "Let's implement a simple way to split a **numeric** attribute in a binary split. As in the exercise, a fixed splitting point will be provided to lead to two children nodes:\n",
    "  - one in which all the records have for that attribute a value less than or equal to the splitting point,\n",
    "  - and the other one with the attribute value greater than the spitting point."
   ]
  },
  {
   "cell_type": "code",
   "execution_count": 27,
   "metadata": {
    "collapsed": true
   },
   "outputs": [],
   "source": [
    "def split_numeric_binary(records, attr_name, splitting_point):\n",
    "    \"\"\"Splits in a binary way -i.e., using a single splitting point- a list of records by a given numeric attribute.\n",
    "\n",
    "    :param records: a list of records to split.\n",
    "    :param attr_name: the name of the numeric attribute.\n",
    "    :param splitting_point: a single number to be splitting point, such that one child will have the records \\\n",
    "    for which the attribute value is less or equal than splitting_point, and the other the ones with values greater \\\n",
    "    than splitting_point.\n",
    "    E.g., 75 was the splitting point for the attrribute \"Temp\" and also for \"Humidity\".\n",
    "    :return: a list of lists, each list contains all the records associated with one child.\n",
    "    \"\"\"\n",
    "    print(\"Splitting by {}\".format(attr_name))\n",
    "    children = [[x for x in records if x[attr_name] <= splitting_point],\n",
    "               [x for x in records if x[attr_name] > splitting_point]]\n",
    "    \n",
    "    # We also print the entropy for each child\n",
    "    print(\"\\t'Less-or-equal-than' child. Size = {}\\tEntropy = {}\".format(len(children[0]), entropy(children[0])))\n",
    "    print(\"\\t'Greater-than' child. Size = {}\\tEntropy = {}\".format(len(children[1]), entropy(children[1])))\n",
    "\n",
    "    return children"
   ]
  },
  {
   "cell_type": "markdown",
   "metadata": {},
   "source": [
    "Obtain the records associated with each the children nodes after splitting the entire dataset by \"Humidity\" with 75 as the splitting point (just like in the exercise attempt)."
   ]
  },
  {
   "cell_type": "code",
   "execution_count": 28,
   "metadata": {
    "scrolled": false
   },
   "outputs": [
    {
     "name": "stdout",
     "output_type": "stream",
     "text": [
      "Splitting by Humidity\n",
      "\t'Less-or-equal-than' child. Size = 5\tEntropy = 0.7219280948873623\n",
      "\t'Greater-than' child. Size = 9\tEntropy = 0.9910760598382222\n"
     ]
    }
   ],
   "source": [
    "children = split_numeric_binary(play_data, \"Humidity\", 75)"
   ]
  },
  {
   "cell_type": "markdown",
   "metadata": {},
   "source": [
    "### Information gain"
   ]
  },
  {
   "cell_type": "markdown",
   "metadata": {},
   "source": [
    "After seen that all the impurity measures behave similarly, we come back to use entropy so that we can define the **information gain** (the formula for it is in the exercise description)."
   ]
  },
  {
   "cell_type": "code",
   "execution_count": 29,
   "metadata": {
    "collapsed": true
   },
   "outputs": [],
   "source": [
    "def infogain(parent_records, children_records):\n",
    "    \"\"\"Information gain between a node and its children nodes.\n",
    "    \n",
    "    :param parent_records: list of records associated with the parent node.\n",
    "    :param children_records: list of lists, each list contains all the records associated with one child.\n",
    "    \"\"\"\n",
    "    entropy_p = entropy(parent_records)\n",
    "    return entropy_p - sum([(len(child_records) / len(parent_records)) * entropy(child_records)\n",
    "                                for child_records in children_records])"
   ]
  },
  {
   "cell_type": "markdown",
   "metadata": {},
   "source": [
    "Get the information gain between the root and the children nodes after splitting the entire dataset by \"Outlook\" with its three possible values as partitions (just like in the exercise)."
   ]
  },
  {
   "cell_type": "code",
   "execution_count": 30,
   "metadata": {},
   "outputs": [
    {
     "name": "stdout",
     "output_type": "stream",
     "text": [
      "Splitting by Outlook\n",
      "\tChild condition: {'sunny'}\tSize = 5\tEntropy = 0.9709505944546686\n",
      "\tChild condition: {'overcast'}\tSize = 4\tEntropy = 0.0\n",
      "\tChild condition: {'rain'}\tSize = 5\tEntropy = 0.9709505944546686\n"
     ]
    },
    {
     "data": {
      "text/plain": [
       "0.2467498197744391"
      ]
     },
     "execution_count": 30,
     "metadata": {},
     "output_type": "execute_result"
    }
   ],
   "source": [
    "children = split_categorical(play_data, \"Outlook\", [{\"sunny\"}, {\"overcast\"}, {\"rain\"}])\n",
    "infogain(play_data, children)"
   ]
  },
  {
   "cell_type": "markdown",
   "metadata": {},
   "source": [
    "Compute the first splitting of the records at the root node as in the exercise. This is, write a small code that assesses the possible splittings by each of the attributes (with the splitting criteria as in the exercise, e.g., all the three values for \"Outlook\" without grouping, and 75 as splitting point for the numerical attributes) and shows the decreasingly sorted information gains."
   ]
  },
  {
   "cell_type": "code",
   "execution_count": 31,
   "metadata": {},
   "outputs": [
    {
     "name": "stdout",
     "output_type": "stream",
     "text": [
      "Splitting by Humidity\n",
      "\t'Less-or-equal-than' child. Size = 5\tEntropy = 0.7219280948873623\n",
      "\t'Greater-than' child. Size = 9\tEntropy = 0.9910760598382222\n",
      "Splitting by Outlook\n",
      "\tChild condition: {'sunny'}\tSize = 5\tEntropy = 0.9709505944546686\n",
      "\tChild condition: {'overcast'}\tSize = 4\tEntropy = 0.0\n",
      "\tChild condition: {'rain'}\tSize = 5\tEntropy = 0.9709505944546686\n",
      "Splitting by Temp\n",
      "\t'Less-or-equal-than' child. Size = 10\tEntropy = 0.8812908992306927\n",
      "\t'Greater-than' child. Size = 4\tEntropy = 1.0\n",
      "Splitting by Windy\n",
      "\tChild condition: {'true'}\tSize = 6\tEntropy = 1.0\n",
      "\tChild condition: {'false'}\tSize = 8\tEntropy = 0.8112781244591328\n",
      "Info gain if splitting by Outlook: 0.2467498197744391\n",
      "Info gain if splitting by Windy: 0.04812703040826927\n",
      "Info gain if splitting by Humidity: 0.04533417202914425\n",
      "Info gain if splitting by Temp: 0.0250781735058504\n"
     ]
    }
   ],
   "source": [
    "from operator import itemgetter\n",
    "\n",
    "CATEGORICAL_ATTRS = {\"Outlook\", \"Windy\"}\n",
    "NUMERIC_ATTRS = {\"Temp\", \"Humidity\"}\n",
    "\n",
    "attr_criteria = {\"Outlook\": [{\"sunny\"}, {\"overcast\"}, {\"rain\"}],\n",
    "                \"Temp\": 75,\n",
    "                \"Humidity\": 75,\n",
    "                \"Windy\": [{\"true\"}, {\"false\"}]\n",
    "                }\n",
    "\n",
    "attr_igs = {}\n",
    "for attr_name, criterion in attr_criteria.items():\n",
    "    children = (split_categorical(play_data, attr_name, criterion) if attr_name in CATEGORICAL_ATTRS\n",
    "                else split_numeric_binary(play_data, attr_name, criterion))\n",
    "    ig = infogain(play_data, children)\n",
    "    attr_igs[attr_name] = ig\n",
    "\n",
    "for attr_name, ig in sorted(attr_igs.items(), key=itemgetter(1), reverse=True):\n",
    "    print(\"Info gain if splitting by {}: {}\".format(attr_name, ig))"
   ]
  },
  {
   "cell_type": "code",
   "execution_count": null,
   "metadata": {
    "collapsed": true
   },
   "outputs": [],
   "source": []
  }
 ],
 "metadata": {
  "kernelspec": {
   "display_name": "Python 3",
   "language": "python",
   "name": "python3"
  },
  "language_info": {
   "codemirror_mode": {
    "name": "ipython",
    "version": 3
   },
   "file_extension": ".py",
   "mimetype": "text/x-python",
   "name": "python",
   "nbconvert_exporter": "python",
   "pygments_lexer": "ipython3",
   "version": "3.7.1"
  }
 },
 "nbformat": 4,
 "nbformat_minor": 1
}
